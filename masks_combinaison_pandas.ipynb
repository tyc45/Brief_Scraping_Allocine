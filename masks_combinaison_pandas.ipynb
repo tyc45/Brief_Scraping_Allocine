{
 "cells": [
  {
   "cell_type": "markdown",
   "id": "ce3ce1db-ce72-47b6-8e92-c491f8da131c",
   "metadata": {},
   "source": [
    "# Combinaison des masques avec Pandas"
   ]
  },
  {
   "cell_type": "code",
   "execution_count": 10,
   "id": "91383943-b8c8-4e7f-8586-e3dd1fe2effe",
   "metadata": {},
   "outputs": [
    {
     "data": {
      "text/html": [
       "<div>\n",
       "<style scoped>\n",
       "    .dataframe tbody tr th:only-of-type {\n",
       "        vertical-align: middle;\n",
       "    }\n",
       "\n",
       "    .dataframe tbody tr th {\n",
       "        vertical-align: top;\n",
       "    }\n",
       "\n",
       "    .dataframe thead th {\n",
       "        text-align: right;\n",
       "    }\n",
       "</style>\n",
       "<table border=\"1\" class=\"dataframe\">\n",
       "  <thead>\n",
       "    <tr style=\"text-align: right;\">\n",
       "      <th></th>\n",
       "      <th>Unnamed: 0</th>\n",
       "      <th>Titre</th>\n",
       "      <th>Titre_original</th>\n",
       "      <th>Annee</th>\n",
       "      <th>Public</th>\n",
       "      <th>Duree</th>\n",
       "      <th>Note</th>\n",
       "      <th>Type</th>\n",
       "      <th>Description</th>\n",
       "      <th>Actors</th>\n",
       "      <th>Country</th>\n",
       "      <th>Langue</th>\n",
       "    </tr>\n",
       "  </thead>\n",
       "  <tbody>\n",
       "    <tr>\n",
       "      <th>0</th>\n",
       "      <td>0</td>\n",
       "      <td>Les Évadés</td>\n",
       "      <td>Original title: The Shawshank Redemption</td>\n",
       "      <td>1994</td>\n",
       "      <td>Tous publics</td>\n",
       "      <td>142.0</td>\n",
       "      <td>9.3</td>\n",
       "      <td>Drama</td>\n",
       "      <td>Two imprisoned men bond over a number of years...</td>\n",
       "      <td>[Tim Robbins,Morgan Freeman,Bob Gunton,William...</td>\n",
       "      <td>United States</td>\n",
       "      <td>English</td>\n",
       "    </tr>\n",
       "    <tr>\n",
       "      <th>1</th>\n",
       "      <td>1</td>\n",
       "      <td>Avengers: Infinity War</td>\n",
       "      <td>NaN</td>\n",
       "      <td>2018</td>\n",
       "      <td>Tous publics</td>\n",
       "      <td>149.0</td>\n",
       "      <td>8.4</td>\n",
       "      <td>Action,Adventure,Sci-Fi</td>\n",
       "      <td>The Avengers and their allies must be willing ...</td>\n",
       "      <td>[Robert Downey Jr.,Chris Hemsworth,Mark Ruffal...</td>\n",
       "      <td>United States</td>\n",
       "      <td>English</td>\n",
       "    </tr>\n",
       "    <tr>\n",
       "      <th>2</th>\n",
       "      <td>2</td>\n",
       "      <td>WALL·E</td>\n",
       "      <td>NaN</td>\n",
       "      <td>2008</td>\n",
       "      <td>Tous publics</td>\n",
       "      <td>98.0</td>\n",
       "      <td>8.4</td>\n",
       "      <td>Animation,Adventure,Family</td>\n",
       "      <td>In the distant future, a small waste-collectin...</td>\n",
       "      <td>[Ben Burtt,Elissa Knight,Jeff Garlin,Fred Will...</td>\n",
       "      <td>United States</td>\n",
       "      <td>English,Hindi</td>\n",
       "    </tr>\n",
       "    <tr>\n",
       "      <th>3</th>\n",
       "      <td>3</td>\n",
       "      <td>Boulevard du Crépuscule</td>\n",
       "      <td>Original title: Sunset Blvd.</td>\n",
       "      <td>1950</td>\n",
       "      <td>Tous publics</td>\n",
       "      <td>110.0</td>\n",
       "      <td>8.4</td>\n",
       "      <td>Drama,Film-Noir</td>\n",
       "      <td>A screenwriter develops a dangerous relationsh...</td>\n",
       "      <td>[William Holden,Gloria Swanson,Erich von Stroh...</td>\n",
       "      <td>United States</td>\n",
       "      <td>English</td>\n",
       "    </tr>\n",
       "    <tr>\n",
       "      <th>4</th>\n",
       "      <td>4</td>\n",
       "      <td>Django Unchained</td>\n",
       "      <td>NaN</td>\n",
       "      <td>2012</td>\n",
       "      <td>12</td>\n",
       "      <td>165.0</td>\n",
       "      <td>8.4</td>\n",
       "      <td>Drama,Western</td>\n",
       "      <td>With the help of a German bounty-hunter, a fre...</td>\n",
       "      <td>[Jamie Foxx,Christoph Waltz,Leonardo DiCaprio,...</td>\n",
       "      <td>United States</td>\n",
       "      <td>English,German,French,Italian</td>\n",
       "    </tr>\n",
       "  </tbody>\n",
       "</table>\n",
       "</div>"
      ],
      "text/plain": [
       "   Unnamed: 0                    Titre  \\\n",
       "0           0               Les Évadés   \n",
       "1           1   Avengers: Infinity War   \n",
       "2           2                   WALL·E   \n",
       "3           3  Boulevard du Crépuscule   \n",
       "4           4         Django Unchained   \n",
       "\n",
       "                             Titre_original  Annee        Public  Duree  Note  \\\n",
       "0  Original title: The Shawshank Redemption   1994  Tous publics  142.0   9.3   \n",
       "1                                       NaN   2018  Tous publics  149.0   8.4   \n",
       "2                                       NaN   2008  Tous publics   98.0   8.4   \n",
       "3              Original title: Sunset Blvd.   1950  Tous publics  110.0   8.4   \n",
       "4                                       NaN   2012            12  165.0   8.4   \n",
       "\n",
       "                         Type  \\\n",
       "0                       Drama   \n",
       "1     Action,Adventure,Sci-Fi   \n",
       "2  Animation,Adventure,Family   \n",
       "3             Drama,Film-Noir   \n",
       "4               Drama,Western   \n",
       "\n",
       "                                         Description  \\\n",
       "0  Two imprisoned men bond over a number of years...   \n",
       "1  The Avengers and their allies must be willing ...   \n",
       "2  In the distant future, a small waste-collectin...   \n",
       "3  A screenwriter develops a dangerous relationsh...   \n",
       "4  With the help of a German bounty-hunter, a fre...   \n",
       "\n",
       "                                              Actors        Country  \\\n",
       "0  [Tim Robbins,Morgan Freeman,Bob Gunton,William...  United States   \n",
       "1  [Robert Downey Jr.,Chris Hemsworth,Mark Ruffal...  United States   \n",
       "2  [Ben Burtt,Elissa Knight,Jeff Garlin,Fred Will...  United States   \n",
       "3  [William Holden,Gloria Swanson,Erich von Stroh...  United States   \n",
       "4  [Jamie Foxx,Christoph Waltz,Leonardo DiCaprio,...  United States   \n",
       "\n",
       "                          Langue  \n",
       "0                        English  \n",
       "1                        English  \n",
       "2                  English,Hindi  \n",
       "3                        English  \n",
       "4  English,German,French,Italian  "
      ]
     },
     "execution_count": 10,
     "metadata": {},
     "output_type": "execute_result"
    }
   ],
   "source": [
    "import pandas as pd\n",
    "\n",
    "df = pd.read_csv('film.csv', converters={\"Actors\": lambda x: x.strip(\"[]\").split(\", \")})\n",
    "\n",
    "df.head()"
   ]
  },
  {
   "cell_type": "code",
   "execution_count": 3,
   "id": "1f506c45-7d25-4e19-a610-6cddae97da05",
   "metadata": {},
   "outputs": [],
   "source": [
    "# Instanciation d'une série (=colonne de pandas)\n",
    "# Permet de définir une série avec la valeur True dans le cas où vous \n",
    "# n'utiliserez pas un champ de recheche sur streamlit\n",
    "mask_1 = mask_2 = mask_3 = pd.Series(True, index=df.index)"
   ]
  },
  {
   "cell_type": "code",
   "execution_count": 4,
   "id": "4e94d6aa-94a5-4a75-8a13-aedbab22640a",
   "metadata": {},
   "outputs": [],
   "source": [
    "# Instanciation de 3 masques\n",
    "mask_1 = df['Duree'] > 150\n",
    "mask_2 = df['Note'] < 9\n",
    "mask_3 = df['Actors'].str.contains('Morgan Freeman')"
   ]
  },
  {
   "cell_type": "code",
   "execution_count": 5,
   "id": "7dd9dd86-690e-4af3-b03e-80e52839f7c1",
   "metadata": {},
   "outputs": [
    {
     "data": {
      "text/plain": [
       "0      False\n",
       "1      False\n",
       "2      False\n",
       "3      False\n",
       "4       True\n",
       "       ...  \n",
       "245     True\n",
       "246    False\n",
       "247     True\n",
       "248     True\n",
       "249     True\n",
       "Name: Duree, Length: 250, dtype: bool"
      ]
     },
     "execution_count": 5,
     "metadata": {},
     "output_type": "execute_result"
    }
   ],
   "source": [
    "# Visualisation d'un masque\n",
    "mask_1"
   ]
  },
  {
   "cell_type": "code",
   "execution_count": 6,
   "id": "b07d6756-ff28-45f2-b3e8-272955418af1",
   "metadata": {},
   "outputs": [
    {
     "data": {
      "text/plain": [
       "0      False\n",
       "1      False\n",
       "2      False\n",
       "3      False\n",
       "4      False\n",
       "       ...  \n",
       "245    False\n",
       "246    False\n",
       "247    False\n",
       "248    False\n",
       "249    False\n",
       "Length: 250, dtype: bool"
      ]
     },
     "execution_count": 6,
     "metadata": {},
     "output_type": "execute_result"
    }
   ],
   "source": [
    "# Combinaison de deux masques\n",
    "mask_1 & mask_3"
   ]
  },
  {
   "cell_type": "code",
   "execution_count": 7,
   "id": "dfa320be-b155-466b-a7a7-5fae6308aff8",
   "metadata": {},
   "outputs": [
    {
     "data": {
      "text/plain": [
       "0      False\n",
       "1      False\n",
       "2      False\n",
       "3      False\n",
       "4      False\n",
       "       ...  \n",
       "245    False\n",
       "246    False\n",
       "247    False\n",
       "248    False\n",
       "249    False\n",
       "Length: 250, dtype: bool"
      ]
     },
     "execution_count": 7,
     "metadata": {},
     "output_type": "execute_result"
    }
   ],
   "source": [
    "# Combinaison de trois masques\n",
    "mask_1 & mask_2 & mask_3"
   ]
  },
  {
   "cell_type": "code",
   "execution_count": 8,
   "id": "88b55fdf-199c-41e3-9b54-ebaa6ad8b12e",
   "metadata": {},
   "outputs": [],
   "source": [
    "df_test_2 = df[mask_1 & mask_3]"
   ]
  },
  {
   "cell_type": "code",
   "execution_count": null,
   "id": "af832348-18c5-4c5d-bd5f-23e8bcf15bdd",
   "metadata": {},
   "outputs": [],
   "source": []
  }
 ],
 "metadata": {
  "kernelspec": {
   "display_name": "Python 3 (ipykernel)",
   "language": "python",
   "name": "python3"
  },
  "language_info": {
   "codemirror_mode": {
    "name": "ipython",
    "version": 3
   },
   "file_extension": ".py",
   "mimetype": "text/x-python",
   "name": "python",
   "nbconvert_exporter": "python",
   "pygments_lexer": "ipython3",
   "version": "3.9.6"
  }
 },
 "nbformat": 4,
 "nbformat_minor": 5
}
