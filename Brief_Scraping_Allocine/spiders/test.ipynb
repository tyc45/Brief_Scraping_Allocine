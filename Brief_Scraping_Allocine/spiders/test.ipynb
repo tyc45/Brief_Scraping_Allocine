{
 "cells": [
  {
   "cell_type": "code",
   "execution_count": 6,
   "metadata": {},
   "outputs": [],
   "source": [
    "import re\n",
    "\n",
    "def minutify(str):\n",
    "        h = int(re.findall(r'(\\d+)h.+', str)[0])\n",
    "        print(h)\n",
    "        m = int(re.findall(r'\\d+h (\\d\\d)m', str)[0])\n",
    "        print(m)\n",
    "        return (h*60)+m"
   ]
  },
  {
   "cell_type": "code",
   "execution_count": 7,
   "metadata": {},
   "outputs": [
    {
     "name": "stdout",
     "output_type": "stream",
     "text": [
      "2\n",
      "30\n"
     ]
    },
    {
     "data": {
      "text/plain": [
       "150"
      ]
     },
     "execution_count": 7,
     "metadata": {},
     "output_type": "execute_result"
    }
   ],
   "source": [
    "minutify('2h 30m')"
   ]
  }
 ],
 "metadata": {
  "interpreter": {
   "hash": "f85c27bf24d3f309292b335d97fc7fc5dc645796f11b8d038e58148142afdcfb"
  },
  "kernelspec": {
   "display_name": "Python 3.9.7 64-bit ('scraping': conda)",
   "language": "python",
   "name": "python3"
  },
  "language_info": {
   "codemirror_mode": {
    "name": "ipython",
    "version": 3
   },
   "file_extension": ".py",
   "mimetype": "text/x-python",
   "name": "python",
   "nbconvert_exporter": "python",
   "pygments_lexer": "ipython3",
   "version": "3.9.7"
  },
  "orig_nbformat": 4
 },
 "nbformat": 4,
 "nbformat_minor": 2
}
