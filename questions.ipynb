{
 "cells": [
  {
   "cell_type": "code",
   "execution_count": 6,
   "metadata": {},
   "outputs": [],
   "source": [
    "import pandas as pd\n",
    "best_movies = pd.read_csv(\"best_movies.csv\", sep=\",\")"
   ]
  },
  {
   "cell_type": "code",
   "execution_count": 16,
   "metadata": {},
   "outputs": [
    {
     "data": {
      "text/plain": [
       "0     142\n",
       "1      88\n",
       "2      87\n",
       "3      89\n",
       "4     155\n",
       "5      87\n",
       "6     119\n",
       "7     106\n",
       "8     109\n",
       "9     116\n",
       "10    137\n",
       "11    133\n",
       "12    132\n",
       "13    106\n",
       "14    150\n",
       "15    110\n",
       "16    145\n",
       "17    153\n",
       "18     98\n",
       "19    110\n",
       "Name: length, dtype: int64"
      ]
     },
     "execution_count": 16,
     "metadata": {},
     "output_type": "execute_result"
    }
   ],
   "source": [
    "best_movies.length.head()"
   ]
  },
  {
   "cell_type": "markdown",
   "metadata": {},
   "source": [
    "Répondre aux questions suivantes :\n",
    "1) Quel est le film le plus long ?\n",
    "2) Quels sont les 5 films les mieux notés ?\n",
    "3) Dans combien de films a joué Morgan Freeman ? Tom Cruise ?\n",
    "4) Quels sont les 3 meilleurs films d’horreur ? Dramatique ? Comique ?\n",
    "5) Parmi les 100 films les mieux notés, quel pourcentage sont américains ? Français ?\n",
    "6) Quel est la durée moyenne d’un film en fonction du genre ?"
   ]
  },
  {
   "cell_type": "code",
   "execution_count": 21,
   "metadata": {},
   "outputs": [
    {
     "data": {
      "text/plain": [
       "9.3"
      ]
     },
     "execution_count": 21,
     "metadata": {},
     "output_type": "execute_result"
    }
   ],
   "source": [
    "best_movies.rating.apply(lambda x:float(x))"
   ]
  }
 ],
 "metadata": {
  "interpreter": {
   "hash": "f85c27bf24d3f309292b335d97fc7fc5dc645796f11b8d038e58148142afdcfb"
  },
  "kernelspec": {
   "display_name": "Python 3.9.7 64-bit ('scraping': conda)",
   "language": "python",
   "name": "python3"
  },
  "language_info": {
   "codemirror_mode": {
    "name": "ipython",
    "version": 3
   },
   "file_extension": ".py",
   "mimetype": "text/x-python",
   "name": "python",
   "nbconvert_exporter": "python",
   "pygments_lexer": "ipython3",
   "version": "3.9.7"
  },
  "orig_nbformat": 4
 },
 "nbformat": 4,
 "nbformat_minor": 2
}
